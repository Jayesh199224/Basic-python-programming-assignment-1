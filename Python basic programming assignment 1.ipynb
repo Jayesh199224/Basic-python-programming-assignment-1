{
 "cells": [
  {
   "cell_type": "code",
   "execution_count": 3,
   "metadata": {},
   "outputs": [
    {
     "name": "stdout",
     "output_type": "stream",
     "text": [
      "Hello Python\n"
     ]
    }
   ],
   "source": [
    "#1.\tWrite a Python program to print \"Hello Python\"?\n",
    "print(\"Hello Python\")\n"
   ]
  },
  {
   "cell_type": "code",
   "execution_count": 4,
   "metadata": {},
   "outputs": [
    {
     "name": "stdout",
     "output_type": "stream",
     "text": [
      "8.0\n"
     ]
    }
   ],
   "source": [
    "#2.\tWrite a Python program to do arithmetical operations addition and division.?\n",
    "a = 3\n",
    "b = 10\n",
    "c = 2\n",
    "print (a+b/c)"
   ]
  },
  {
   "cell_type": "code",
   "execution_count": 15,
   "metadata": {},
   "outputs": [
    {
     "name": "stdout",
     "output_type": "stream",
     "text": [
      "enter first side for triangle 3\n",
      "enter second side for triangle 7\n",
      "enter third side for triangle 9\n",
      "The area of the triangle is 8.79\n"
     ]
    }
   ],
   "source": [
    "#3.\tWrite a Python program to find the area of a triangle?\n",
    "a = float(input (\"enter first side for triangle \"))\n",
    "b = float(input (\"enter second side for triangle \"))\n",
    "c = float(input (\"enter third side for triangle \"))\n",
    "\n",
    "\n",
    "sp = (a + b + c) / 2\n",
    "\n",
    "area = (sp*(sp - a)*(sp - b)*(sp - c))**0.5\n",
    "print (\"The area of the triangle is %0.2f\"%area)"
   ]
  },
  {
   "cell_type": "code",
   "execution_count": 38,
   "metadata": {},
   "outputs": [
    {
     "name": "stdout",
     "output_type": "stream",
     "text": [
      "swapped value of n is :  20\n",
      "swapped value of m is :  10\n"
     ]
    }
   ],
   "source": [
    "#4 Write a Python program to swap two variables?\n",
    "n = 10\n",
    "m = 20\n",
    "j = n\n",
    "n = m\n",
    "m = j\n",
    "print (\"swapped value of n is : \",n)\n",
    "print (\"swapped value of m is : \",m)\n"
   ]
  },
  {
   "cell_type": "code",
   "execution_count": 42,
   "metadata": {},
   "outputs": [
    {
     "name": "stdout",
     "output_type": "stream",
     "text": [
      "71\n"
     ]
    }
   ],
   "source": [
    "#5.\tWrite a Python program to generate a random number?\n",
    "import random\n",
    "\n",
    "print(random.randint(1,100))\n"
   ]
  },
  {
   "cell_type": "code",
   "execution_count": null,
   "metadata": {},
   "outputs": [],
   "source": []
  }
 ],
 "metadata": {
  "kernelspec": {
   "display_name": "Python 3",
   "language": "python",
   "name": "python3"
  }
 },
 "nbformat": 4,
 "nbformat_minor": 4
}
